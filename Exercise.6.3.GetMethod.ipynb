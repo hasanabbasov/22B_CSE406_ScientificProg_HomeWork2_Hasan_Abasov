{
 "cells": [
  {
   "cell_type": "code",
   "execution_count": 4,
   "id": "93b7ac9d-4027-4930-aa15-30dd4c54f51f",
   "metadata": {},
   "outputs": [
    {
     "name": "stdout",
     "output_type": "stream",
     "text": [
      "My list numbers is:  1 2 3\n",
      "Convert : {1: None, 2: None, 3: None}\n"
     ]
    }
   ],
   "source": [
    "my_list = [1,2,2,3]\n",
    "my_list_convert = {}\n",
    "for num in my_list:\n",
    "    convert_num=my_list_convert.get(num)\n",
    "    new_num=my_list.count(num)\n",
    "    my_list_convert.update({num:convert_num})\n",
    "print('My list numbers is: ',*my_list_convert)\n",
    "print('Convert :',my_list_convert)"
   ]
  },
  {
   "cell_type": "code",
   "execution_count": null,
   "id": "493486c3-fa72-4db9-adb2-8bd5e90f133d",
   "metadata": {},
   "outputs": [],
   "source": []
  }
 ],
 "metadata": {
  "kernelspec": {
   "display_name": "Python 3 (ipykernel)",
   "language": "python",
   "name": "python3"
  },
  "language_info": {
   "codemirror_mode": {
    "name": "ipython",
    "version": 3
   },
   "file_extension": ".py",
   "mimetype": "text/x-python",
   "name": "python",
   "nbconvert_exporter": "python",
   "pygments_lexer": "ipython3",
   "version": "3.9.10"
  }
 },
 "nbformat": 4,
 "nbformat_minor": 5
}
