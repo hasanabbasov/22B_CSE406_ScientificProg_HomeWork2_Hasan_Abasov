{
 "cells": [
  {
   "cell_type": "code",
   "execution_count": 6,
   "id": "bf24953b-d2ae-42ee-8fa1-ca0b80c636da",
   "metadata": {},
   "outputs": [
    {
     "name": "stdout",
     "output_type": "stream",
     "text": [
      "11 12 13 14 15\n"
     ]
    }
   ],
   "source": [
    "#A)\n",
    "my_list = [11,12,13,14,15]\n",
    "print(*my_list)"
   ]
  },
  {
   "cell_type": "code",
   "execution_count": 7,
   "id": "b215d668-c414-4e85-88e7-7d82d828c73a",
   "metadata": {},
   "outputs": [
    {
     "name": "stdout",
     "output_type": "stream",
     "text": [
      "Reverse list is :  [15, 14, 13, 12, 11]\n"
     ]
    }
   ],
   "source": [
    "#B)\n",
    "my_list = [11,12,13,14,15]\n",
    "my_list.reverse()\n",
    "print('Reverse list is : ' , my_list)"
   ]
  },
  {
   "cell_type": "code",
   "execution_count": 10,
   "id": "42a87831-bc9b-4a2d-9d6a-e09a02190618",
   "metadata": {},
   "outputs": [
    {
     "name": "stdout",
     "output_type": "stream",
     "text": [
      "11\n"
     ]
    }
   ],
   "source": [
    "#C)\n",
    "def len(my_string):\n",
    "    total = 0\n",
    "    for i in my_string:\n",
    "        total+= 1\n",
    "    return total\n",
    "my_string = \"hasanabasov\"\n",
    "print(len(my_string))"
   ]
  }
 ],
 "metadata": {
  "kernelspec": {
   "display_name": "Python 3 (ipykernel)",
   "language": "python",
   "name": "python3"
  },
  "language_info": {
   "codemirror_mode": {
    "name": "ipython",
    "version": 3
   },
   "file_extension": ".py",
   "mimetype": "text/x-python",
   "name": "python",
   "nbconvert_exporter": "python",
   "pygments_lexer": "ipython3",
   "version": "3.9.10"
  }
 },
 "nbformat": 4,
 "nbformat_minor": 5
}
