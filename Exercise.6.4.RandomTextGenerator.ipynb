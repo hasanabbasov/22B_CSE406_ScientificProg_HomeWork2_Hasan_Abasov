{
 "cells": [
  {
   "cell_type": "code",
   "execution_count": null,
   "id": "a1cd4d49-3590-44e9-a314-706f6359e6c9",
   "metadata": {},
   "outputs": [],
   "source": [
    "import random, string\n",
    "each_digits = ''.join(random.sample(string.each_digits, 8))\n",
    "my_chars = ''.join(random.sample(string.my_chars, 15))"
   ]
  },
  {
   "cell_type": "code",
   "execution_count": null,
   "id": "684a0f37-b1cf-438d-8834-9ad15ade5ef1",
   "metadata": {},
   "outputs": [],
   "source": []
  }
 ],
 "metadata": {
  "kernelspec": {
   "display_name": "Python 3 (ipykernel)",
   "language": "python",
   "name": "python3"
  },
  "language_info": {
   "codemirror_mode": {
    "name": "ipython",
    "version": 3
   },
   "file_extension": ".py",
   "mimetype": "text/x-python",
   "name": "python",
   "nbconvert_exporter": "python",
   "pygments_lexer": "ipython3",
   "version": "3.9.10"
  }
 },
 "nbformat": 4,
 "nbformat_minor": 5
}
