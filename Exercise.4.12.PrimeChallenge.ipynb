{
 "cells": [
  {
   "cell_type": "code",
   "execution_count": 6,
   "id": "82a4600a-ca4f-40d1-89ca-e8a8bd2892a3",
   "metadata": {},
   "outputs": [
    {
     "name": "stdout",
     "output_type": "stream",
     "text": [
      "5\n",
      "7\n"
     ]
    }
   ],
   "source": [
    "def isPrime(n):\n",
    "    if ((n <= 1) or (n % 2 == 0 or n % 3 == 0)): \n",
    "        return False\n",
    "    if (n <= 3): \n",
    "        return True\n",
    "    i = 5\n",
    "    return True\n",
    "def printPrime(n):\n",
    "        for i in range(2, n + 1):\n",
    "                if isPrime(i):\n",
    "                        print (i)\n",
    "n = 7           \n",
    "printPrime(n)"
   ]
  }
 ],
 "metadata": {
  "kernelspec": {
   "display_name": "Python 3 (ipykernel)",
   "language": "python",
   "name": "python3"
  },
  "language_info": {
   "codemirror_mode": {
    "name": "ipython",
    "version": 3
   },
   "file_extension": ".py",
   "mimetype": "text/x-python",
   "name": "python",
   "nbconvert_exporter": "python",
   "pygments_lexer": "ipython3",
   "version": "3.9.10"
  }
 },
 "nbformat": 4,
 "nbformat_minor": 5
}
