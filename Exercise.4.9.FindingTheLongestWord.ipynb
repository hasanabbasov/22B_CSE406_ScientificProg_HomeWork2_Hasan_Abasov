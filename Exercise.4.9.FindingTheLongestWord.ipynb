{
 "cells": [
  {
   "cell_type": "code",
   "execution_count": 58,
   "id": "ac8f07c8-49d3-4c17-83d4-cc9768d9384e",
   "metadata": {},
   "outputs": [
    {
     "name": "stdout",
     "output_type": "stream",
     "text": [
      "longest word in sentences is:  football\n"
     ]
    }
   ],
   "source": [
    "def findLongestSen():\n",
    "    my_sen = 'Hello, how was the football match earlier today'\n",
    "    longest_sen = max(my_sen.split(), key=len)\n",
    "    return longest_sen\n",
    "print('longest word in sentences is: ',longest_sen)"
   ]
  }
 ],
 "metadata": {
  "kernelspec": {
   "display_name": "Python 3 (ipykernel)",
   "language": "python",
   "name": "python3"
  },
  "language_info": {
   "codemirror_mode": {
    "name": "ipython",
    "version": 3
   },
   "file_extension": ".py",
   "mimetype": "text/x-python",
   "name": "python",
   "nbconvert_exporter": "python",
   "pygments_lexer": "ipython3",
   "version": "3.9.10"
  }
 },
 "nbformat": 4,
 "nbformat_minor": 5
}
