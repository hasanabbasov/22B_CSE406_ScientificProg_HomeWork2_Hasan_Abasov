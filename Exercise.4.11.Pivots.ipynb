{
 "cells": [
  {
   "cell_type": "code",
   "execution_count": 8,
   "id": "e69aab31-4b99-4e53-9336-b2d42b374485",
   "metadata": {},
   "outputs": [
    {
     "name": "stdout",
     "output_type": "stream",
     "text": [
      "Answer is:  [1, 3, 6, 4, 7]\n"
     ]
    }
   ],
   "source": [
    "def myFunction(x,a):\n",
    "    first_list=[]\n",
    "    second_list=[]\n",
    "    last_list=[]\n",
    "    for i in range(len(a)):\n",
    "        if(a[i]<=x):\n",
    "            first_list.append(a[i])\n",
    "        else:\n",
    "            second_list.append(a[i])\n",
    "    for i in range(len(first_list)):\n",
    "        last_list.append(first_list[i])\n",
    "    last_list.append(x)\n",
    "    for i in range(len(second_list)):\n",
    "        last_list.append(second_list[i])\n",
    "    return(last_list)\n",
    "print('Answer is: ' , myFunction(3,[6,4,1,7]))"
   ]
  }
 ],
 "metadata": {
  "kernelspec": {
   "display_name": "Python 3 (ipykernel)",
   "language": "python",
   "name": "python3"
  },
  "language_info": {
   "codemirror_mode": {
    "name": "ipython",
    "version": 3
   },
   "file_extension": ".py",
   "mimetype": "text/x-python",
   "name": "python",
   "nbconvert_exporter": "python",
   "pygments_lexer": "ipython3",
   "version": "3.9.10"
  }
 },
 "nbformat": 4,
 "nbformat_minor": 5
}
