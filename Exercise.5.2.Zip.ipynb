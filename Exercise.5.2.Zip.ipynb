{
 "cells": [
  {
   "cell_type": "code",
   "execution_count": 2,
   "id": "765af1bc-463e-415e-ad94-6e4f4159f7f6",
   "metadata": {},
   "outputs": [
    {
     "name": "stdout",
     "output_type": "stream",
     "text": [
      "zip: [(5, 5), (6, 6), (7, 5), (8, 7), (9, 5)]\n",
      "[5, 6, 7, 8, 9]\n",
      "[5, 6, 5, 7, 5]\n"
     ]
    }
   ],
   "source": [
    "A=[5,6,7,8,9]\n",
    "B=[5,6,5,7,5]\n",
    "answer=zip(A,B)\n",
    "answer = list(answer)\n",
    "A,Y = zip(*answer)\n",
    "A=list(A)\n",
    "Y=list(Y)\n",
    "print('zip:',answer)\n",
    "print(A)\n",
    "print(B)"
   ]
  },
  {
   "cell_type": "code",
   "execution_count": null,
   "id": "8e0d746e-4295-4d91-9a29-41bf56feb7d0",
   "metadata": {},
   "outputs": [],
   "source": []
  }
 ],
 "metadata": {
  "kernelspec": {
   "display_name": "Python 3 (ipykernel)",
   "language": "python",
   "name": "python3"
  },
  "language_info": {
   "codemirror_mode": {
    "name": "ipython",
    "version": 3
   },
   "file_extension": ".py",
   "mimetype": "text/x-python",
   "name": "python",
   "nbconvert_exporter": "python",
   "pygments_lexer": "ipython3",
   "version": "3.9.10"
  }
 },
 "nbformat": 4,
 "nbformat_minor": 5
}
