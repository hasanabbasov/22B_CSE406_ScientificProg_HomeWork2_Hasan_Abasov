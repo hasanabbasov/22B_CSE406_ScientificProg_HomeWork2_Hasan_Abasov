{
 "cells": [
  {
   "cell_type": "code",
   "execution_count": 20,
   "id": "3ff73cf2-1798-498a-acf3-db6aa0becd9a",
   "metadata": {},
   "outputs": [
    {
     "name": "stdout",
     "output_type": "stream",
     "text": [
      "[155, 233, 350, 175, 263, 395, 593, 890, 445, 668, 334, 167, 251, 377, 566, 283, 425, 638, 319, 479, 719, 1079, 1619, 2429, 3644, 1822, 911, 1367, 2051, 3077, 4616, 2308, 1154, 577, 866, 433, 650, 325, 488, 244, 122, 61, 92, 46, 23, 35, 53, 80, 40, 20, 10, 5, 8, 4, 2, 1]\n"
     ]
    }
   ],
   "source": [
    "#A)\n",
    "def colSequence(n):\n",
    "    list=[]\n",
    "    sum = 0\n",
    "    while n != 1:\n",
    "        if n %2 == 1:\n",
    "            n = 3 * n + 1\n",
    "        else:\n",
    "            n = n // 2\n",
    "            list.append(n)\n",
    "    print(list)\n",
    "colSequence(103)"
   ]
  },
  {
   "cell_type": "code",
   "execution_count": 22,
   "id": "fda87d30-fc5e-48aa-8b7a-e30cb31a9633",
   "metadata": {},
   "outputs": [
    {
     "name": "stdout",
     "output_type": "stream",
     "text": [
      "9\n"
     ]
    }
   ],
   "source": [
    "#B)\n",
    "def myMemoFunction(x):\n",
    "    x.cache = {}\n",
    "    def func(*i):\n",
    "        if i not in x.cache:\n",
    "            x.cache[args] = x(*i)\n",
    "        return x.cache[args]\n",
    "    return func\n",
    "\n",
    "@memo\n",
    "def longestCollatz(n):\n",
    "    if n == 1:\n",
    "        return 1\n",
    "    if n % 2 == 0:\n",
    "        return 1 + longestCollatz(n / 2)\n",
    "    if n % 2 == 1:\n",
    "        return 1 + longestCollatz(3 * n + 1)\n",
    "print(max(range(1, 10), key=longestCollatz))"
   ]
  },
  {
   "cell_type": "code",
   "execution_count": null,
   "id": "d0b55c33-4789-43dc-8db6-14b5f89e8ced",
   "metadata": {},
   "outputs": [],
   "source": []
  }
 ],
 "metadata": {
  "kernelspec": {
   "display_name": "Python 3 (ipykernel)",
   "language": "python",
   "name": "python3"
  },
  "language_info": {
   "codemirror_mode": {
    "name": "ipython",
    "version": 3
   },
   "file_extension": ".py",
   "mimetype": "text/x-python",
   "name": "python",
   "nbconvert_exporter": "python",
   "pygments_lexer": "ipython3",
   "version": "3.9.10"
  }
 },
 "nbformat": 4,
 "nbformat_minor": 5
}
