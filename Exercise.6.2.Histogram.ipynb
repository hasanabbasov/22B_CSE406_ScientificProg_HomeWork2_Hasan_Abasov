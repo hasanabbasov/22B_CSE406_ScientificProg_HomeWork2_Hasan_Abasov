{
 "cells": [
  {
   "cell_type": "code",
   "execution_count": 20,
   "id": "559e7ab8-48a1-45e2-8d39-af6f97327bad",
   "metadata": {},
   "outputs": [
    {
     "name": "stdout",
     "output_type": "stream",
     "text": [
      "My list numbers is:  1 2 3 7 77\n",
      "Convert : {1: 1, 2: 2, 3: 2, 7: 6, 77: 1}\n"
     ]
    }
   ],
   "source": [
    "my_list = [1,2,2,3,3,7,7,7,7,7,7,77,]\n",
    "my_list_convert = {}\n",
    "for num in my_list:\n",
    "    new_num=my_list.count(num)\n",
    "    my_list_convert.update({num:new_num})\n",
    "print('My list numbers is: ',*my_list_convert)\n",
    "print('Convert :',my_list_convert)"
   ]
  },
  {
   "cell_type": "code",
   "execution_count": null,
   "id": "5eb37e70-1909-407f-900f-6ecf71550fd8",
   "metadata": {},
   "outputs": [],
   "source": []
  }
 ],
 "metadata": {
  "kernelspec": {
   "display_name": "Python 3 (ipykernel)",
   "language": "python",
   "name": "python3"
  },
  "language_info": {
   "codemirror_mode": {
    "name": "ipython",
    "version": 3
   },
   "file_extension": ".py",
   "mimetype": "text/x-python",
   "name": "python",
   "nbconvert_exporter": "python",
   "pygments_lexer": "ipython3",
   "version": "3.9.10"
  }
 },
 "nbformat": 4,
 "nbformat_minor": 5
}
