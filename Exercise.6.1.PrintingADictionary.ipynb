{
 "cells": [
  {
   "cell_type": "code",
   "execution_count": 10,
   "id": "7315a656-19e0-405a-a800-442233787b18",
   "metadata": {},
   "outputs": [
    {
     "name": "stdout",
     "output_type": "stream",
     "text": [
      "{'Name': 'Hasan', 'SURNAME': 'Abasov', 'GENDER': 'Man', 'AGE': 22}\n"
     ]
    }
   ],
   "source": [
    "myList = {\n",
    "    \"Name\":\"Hasan\",\n",
    "    \"SURNAME\":\"Abasov\",\n",
    "    \"GENDER\":\"Man\",\n",
    "    \"AGE\": 22\n",
    "}\n",
    "def printValue():\n",
    "    for i in myList:\n",
    "        print(myList[i])\n",
    "        printValue(myList)\n",
    "print(myList)"
   ]
  },
  {
   "cell_type": "code",
   "execution_count": null,
   "id": "a53c9e85-6fb0-460d-8210-b96aa9d54a6d",
   "metadata": {},
   "outputs": [],
   "source": []
  }
 ],
 "metadata": {
  "kernelspec": {
   "display_name": "Python 3 (ipykernel)",
   "language": "python",
   "name": "python3"
  },
  "language_info": {
   "codemirror_mode": {
    "name": "ipython",
    "version": 3
   },
   "file_extension": ".py",
   "mimetype": "text/x-python",
   "name": "python",
   "nbconvert_exporter": "python",
   "pygments_lexer": "ipython3",
   "version": "3.9.10"
  }
 },
 "nbformat": 4,
 "nbformat_minor": 5
}
