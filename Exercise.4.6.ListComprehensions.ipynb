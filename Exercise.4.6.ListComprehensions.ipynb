{
 "cells": [
  {
   "cell_type": "code",
   "execution_count": 7,
   "id": "70d02d89-054e-40ee-bdb2-ca9b76be18e0",
   "metadata": {},
   "outputs": [],
   "source": [
    "def primeControl(p):\n",
    "        fac = [i for i in range(1, p//2+1) if p%i==0]\n",
    "        if len(fac)>1:\n",
    "                return False\n",
    "        else:\n",
    "                return True\n",
    "def createLists(i,j):\n",
    "        l = [[x, y] for x in range(1, i+1) for y in range(1, j+1)]\n",
    "\n",
    "        l2 = [[x, y] for x in range(1, i+1) for y in range(1, j+1) if x<y]\n",
    "\n",
    "        l3 = [[x,y] for x in range(1, i+1) for y in range(1, j+1) if primeControl(x) and primeControl(y) and x>y]\n",
    "\n",
    "def calculatePoly(x,y):\n",
    "        l = [coff[i]*x**i for i in range(len(y))]\n",
    "        return(sum(l))"
   ]
  },
  {
   "cell_type": "code",
   "execution_count": null,
   "id": "d875054c-2e13-408c-b2a9-f2de7614eef2",
   "metadata": {},
   "outputs": [],
   "source": []
  },
  {
   "cell_type": "code",
   "execution_count": null,
   "id": "4574c085-e735-4c15-a367-49f3a7a762b2",
   "metadata": {},
   "outputs": [],
   "source": []
  }
 ],
 "metadata": {
  "kernelspec": {
   "display_name": "Python 3 (ipykernel)",
   "language": "python",
   "name": "python3"
  },
  "language_info": {
   "codemirror_mode": {
    "name": "ipython",
    "version": 3
   },
   "file_extension": ".py",
   "mimetype": "text/x-python",
   "name": "python",
   "nbconvert_exporter": "python",
   "pygments_lexer": "ipython3",
   "version": "3.9.10"
  }
 },
 "nbformat": 4,
 "nbformat_minor": 5
}
