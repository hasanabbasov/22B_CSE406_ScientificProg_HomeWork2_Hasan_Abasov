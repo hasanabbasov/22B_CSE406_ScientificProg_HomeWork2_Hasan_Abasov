{
 "cells": [
  {
   "cell_type": "code",
   "execution_count": 1,
   "id": "fce077fa-789e-43c2-9ff5-b7c0842c1699",
   "metadata": {},
   "outputs": [],
   "source": [
    "def function(list, index):\n",
    "    for i in list:\n",
    "        list[index]=0\n",
    "        return list"
   ]
  },
  {
   "cell_type": "code",
   "execution_count": null,
   "id": "33920654-d24b-471c-bc19-bd15a23b75fc",
   "metadata": {},
   "outputs": [],
   "source": []
  }
 ],
 "metadata": {
  "kernelspec": {
   "display_name": "Python 3 (ipykernel)",
   "language": "python",
   "name": "python3"
  },
  "language_info": {
   "codemirror_mode": {
    "name": "ipython",
    "version": 3
   },
   "file_extension": ".py",
   "mimetype": "text/x-python",
   "name": "python",
   "nbconvert_exporter": "python",
   "pygments_lexer": "ipython3",
   "version": "3.9.10"
  }
 },
 "nbformat": 4,
 "nbformat_minor": 5
}
