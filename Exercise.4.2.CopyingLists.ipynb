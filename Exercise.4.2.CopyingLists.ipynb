{
 "cells": [
  {
   "cell_type": "code",
   "execution_count": 3,
   "id": "0ef9921e-77e5-438d-8371-0ceea47997b3",
   "metadata": {},
   "outputs": [
    {
     "name": "stdout",
     "output_type": "stream",
     "text": [
      "It is origin:  [11, 12, 13, 14, 15]\n",
      "It is changed [0, 12, 13, 14, 15]\n"
     ]
    }
   ],
   "source": [
    "#A) a[11,12,13,14,15]\n",
    "#B) b=a\n",
    "#C) b[1] = 0\n",
    "#D) value of a also will be change\n",
    "#E) c=[a:]\n",
    "#F) c[2] = 16\n",
    "#G) a value will not affected\n",
    "\n",
    "def set_first_elem_to_zero(l):\n",
    "    l[0] = 0\n",
    "    return l\n",
    "my_list = [11,12,13,14,15]\n",
    "print('It is origin: ',my_list)\n",
    "print('It is changed',set_first_elem_to_zero(my_list))"
   ]
  }
 ],
 "metadata": {
  "kernelspec": {
   "display_name": "Python 3 (ipykernel)",
   "language": "python",
   "name": "python3"
  },
  "language_info": {
   "codemirror_mode": {
    "name": "ipython",
    "version": 3
   },
   "file_extension": ".py",
   "mimetype": "text/x-python",
   "name": "python",
   "nbconvert_exporter": "python",
   "pygments_lexer": "ipython3",
   "version": "3.9.10"
  }
 },
 "nbformat": 4,
 "nbformat_minor": 5
}
