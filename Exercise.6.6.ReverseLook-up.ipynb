{
 "cells": [
  {
   "cell_type": "code",
   "execution_count": 4,
   "id": "e74a60a2-b7c1-4f3e-96cd-8509d9c08738",
   "metadata": {},
   "outputs": [
    {
     "name": "stdout",
     "output_type": "stream",
     "text": [
      "{3: {1}, 5: {2}, 7: {2, 4}}\n",
      "{3: {1}, 5: {2}, 7: {2, 4}, 1: {5, 6}, 4: {5}}\n",
      "{3: {1}, 5: {2}, 7: {2, 4, 6}, 1: {5, 6}, 4: {5}}\n",
      "{3: {1}, 5: {2}, 7: {2, 4, 6}, 1: {5, 6, 7}, 4: {5}}\n",
      "{3: {1}, 5: {8, 2}, 7: {2, 4, 6}, 1: {5, 6, 7}, 4: {5}, 2: {8}}\n"
     ]
    }
   ],
   "source": [
    "my_list = {\n",
    "  1: set([3]), \n",
    "  2: set([5, 7]), \n",
    "  3: set([]), \n",
    "  4: set([7]), \n",
    "  5: set([1, 4]), \n",
    "  6: set([1, 7]), \n",
    "  7: set([1]), \n",
    "  8: set([2, 5, 6])\n",
    "}\n",
    "my_reverse_list={}\n",
    "\n",
    "for i in my_list:\n",
    "    for j in my_list[i]:\n",
    "        if j not in my_reverse_list:\n",
    "            my_reverse_list[j] = set([i])\n",
    "        else:\n",
    "            my_reverse_list[j].add(i)\n",
    "            print(my_reverse_list)"
   ]
  },
  {
   "cell_type": "code",
   "execution_count": null,
   "id": "94a4e409-5394-48f2-a2b4-645cec4bfb6d",
   "metadata": {},
   "outputs": [],
   "source": []
  }
 ],
 "metadata": {
  "kernelspec": {
   "display_name": "Python 3 (ipykernel)",
   "language": "python",
   "name": "python3"
  },
  "language_info": {
   "codemirror_mode": {
    "name": "ipython",
    "version": 3
   },
   "file_extension": ".py",
   "mimetype": "text/x-python",
   "name": "python",
   "nbconvert_exporter": "python",
   "pygments_lexer": "ipython3",
   "version": "3.9.10"
  }
 },
 "nbformat": 4,
 "nbformat_minor": 5
}
