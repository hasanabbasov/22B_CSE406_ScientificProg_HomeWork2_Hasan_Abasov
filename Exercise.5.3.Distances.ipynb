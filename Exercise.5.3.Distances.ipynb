{
 "cells": [
  {
   "cell_type": "code",
   "execution_count": null,
   "id": "2fada271-93ea-4f21-8575-27bbc04b5011",
   "metadata": {},
   "outputs": [],
   "source": [
    "def func(a,b)\n",
    "n = len(a)\n",
    "total = 0\n",
    "total_square = 0\n",
    "for i in range(n):\n",
    "  diff = abs(a[i]) - abs(b[i])\n",
    "  total = total + abs(diff)\n",
    "  number_square = diff * diff\n",
    "  total_square = total_square + number_square"
   ]
  },
  {
   "cell_type": "code",
   "execution_count": null,
   "id": "27824e8e-c281-45ee-b737-5edd6db4f9ce",
   "metadata": {},
   "outputs": [],
   "source": []
  }
 ],
 "metadata": {
  "kernelspec": {
   "display_name": "Python 3 (ipykernel)",
   "language": "python",
   "name": "python3"
  },
  "language_info": {
   "codemirror_mode": {
    "name": "ipython",
    "version": 3
   },
   "file_extension": ".py",
   "mimetype": "text/x-python",
   "name": "python",
   "nbconvert_exporter": "python",
   "pygments_lexer": "ipython3",
   "version": "3.9.10"
  }
 },
 "nbformat": 4,
 "nbformat_minor": 5
}
